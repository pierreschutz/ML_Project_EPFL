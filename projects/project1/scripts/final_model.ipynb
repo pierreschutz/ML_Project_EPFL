{
 "cells": [
  {
   "cell_type": "code",
   "execution_count": 173,
   "metadata": {},
   "outputs": [],
   "source": [
    "from run import *"
   ]
  },
  {
   "cell_type": "markdown",
   "metadata": {},
   "source": [
    "**This code performed our best submission (ID: 23388)**"
   ]
  },
  {
   "cell_type": "code",
   "execution_count": 174,
   "metadata": {},
   "outputs": [],
   "source": [
    "DATA_TRAIN_PATH = '../data/train.csv' \n",
    "DATA_TEST_PATH = '../data/test.csv'\n",
    "SUBMISSION_PATH = '../data/submission.csv'"
   ]
  },
  {
   "cell_type": "code",
   "execution_count": 175,
   "metadata": {},
   "outputs": [],
   "source": [
    "# Lambdas and degrees computed in params_selection.ipynb file.\n",
    "optimal_degrees = [12, 9, 8, 7]\n",
    "optimal_lambdas = [5e-6, 6e-7, 6e-6, 1.4e-6]"
   ]
  },
  {
   "cell_type": "code",
   "execution_count": 176,
   "metadata": {},
   "outputs": [
    {
     "name": "stdout",
     "output_type": "stream",
     "text": [
      "Step 1/3: Computing optimal weights using the train dataset...\n",
      "Step 1-1/5: Train data loading...\n",
      "Step 1-2/5: Compute w for subset 0\n",
      "Step 1-3/5: Compute w for subset 1\n",
      "Step 1-4/5: Compute w for subset 2\n",
      "Step 1-5/5: Compute w for subset 3\n",
      "Step 2/3: Computing the final prediction using the test dataset...\n",
      "Step 1-1/5: Test data loading...\n",
      "Step 1-2/5: Compute prediction for subset 0\n",
      "Step 1-3/5: Compute prediction for subset 1\n",
      "Step 1-4/5: Compute prediction for subset 2\n",
      "Step 1-5/5: Compute prediction for subset 3\n",
      "Step 3/3: Create the submission file\n",
      "Task completed !\n"
     ]
    }
   ],
   "source": [
    "# Train a ridge regression with optimal parameters on train dataset,\n",
    "# make a prediction using the test dataset, and create a submission with the prediction. \n",
    "create_submission(optimal_degrees, optimal_lambdas, DATA_TRAIN_PATH, DATA_TEST_PATH, SUBMISSION_PATH)"
   ]
  },
  {
   "cell_type": "code",
   "execution_count": null,
   "metadata": {},
   "outputs": [],
   "source": []
  }
 ],
 "metadata": {
  "kernelspec": {
   "display_name": "Python 3",
   "language": "python",
   "name": "python3"
  },
  "language_info": {
   "codemirror_mode": {
    "name": "ipython",
    "version": 3
   },
   "file_extension": ".py",
   "mimetype": "text/x-python",
   "name": "python",
   "nbconvert_exporter": "python",
   "pygments_lexer": "ipython3",
   "version": "3.7.1"
  }
 },
 "nbformat": 4,
 "nbformat_minor": 2
}
