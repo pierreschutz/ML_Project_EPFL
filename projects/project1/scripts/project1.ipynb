{
 "cells": [
  {
   "cell_type": "code",
   "execution_count": null,
   "metadata": {},
   "outputs": [],
   "source": [
    "# Useful starting lines\n",
    "%matplotlib inline\n",
    "import numpy as np\n",
    "import matplotlib.pyplot as plt\n",
    "%load_ext autoreload\n",
    "%autoreload 2"
   ]
  },
  {
   "cell_type": "markdown",
   "metadata": {},
   "source": [
    "## Load the training data into feature matrix, class labels, and event ids:"
   ]
  },
  {
   "cell_type": "code",
   "execution_count": null,
   "metadata": {},
   "outputs": [],
   "source": [
    "from proj1_helpers import *\n",
    "DATA_TRAIN_PATH = '../data/train.csv' # TODO: download train data and supply path here \n",
    "y, tX, ids = load_csv_data(DATA_TRAIN_PATH)\n",
    "print(y.shape)"
   ]
  },
  {
   "cell_type": "markdown",
   "metadata": {},
   "source": [
    "## Do your thing crazy machine learning thing here :) ..."
   ]
  },
  {
   "cell_type": "code",
   "execution_count": null,
   "metadata": {},
   "outputs": [],
   "source": [
    "def standardize(x):\n",
    "    \"\"\"Standardize the original data set.\"\"\"\n",
    "    mean_x = np.mean(x)\n",
    "    x = x - mean_x\n",
    "    std_x = np.std(x)\n",
    "    x = x / std_x\n",
    "    return x, mean_x, std_x"
   ]
  },
  {
   "cell_type": "code",
   "execution_count": null,
   "metadata": {},
   "outputs": [],
   "source": [
    "def build_model_data(x):\n",
    "    \"\"\"Form (y,tX) to get regression data in matrix form.\"\"\"\n",
    "    num_samples = len(x)\n",
    "    tx = np.c_[np.ones(num_samples), x]\n",
    "    return tx\n"
   ]
  },
  {
   "cell_type": "code",
   "execution_count": null,
   "metadata": {},
   "outputs": [],
   "source": [
    "# -*- coding: utf-8 -*-\n",
    "\"\"\"Function used to compute the loss.\"\"\"\n",
    "\n",
    "def compute_loss(y, tx, w):\n",
    "    \"\"\"Calculate the loss.\n",
    "\n",
    "    You can calculate the loss using mse or mae.\n",
    "    \"\"\"\n",
    "    # ***************************************************\n",
    "    # INSERT YOUR CODE HERE\n",
    "    # TODO: compute loss by MSE / MAE\n",
    "    # ***************************************************\n",
    "    e = y - tx @ w\n",
    "    \n",
    "    return 1/(2*float(len(y))) * e @ np.transpose(e)"
   ]
  },
  {
   "cell_type": "code",
   "execution_count": null,
   "metadata": {},
   "outputs": [],
   "source": [
    "\n",
    "def compute_gradient(y, tx, w):\n",
    "    \"\"\"Compute the gradient.\"\"\"\n",
    "    # ***************************************************\n",
    "    # INSERT YOUR CODE HERE\n",
    "    # TODO: compute gradient and loss\n",
    "    # ***************************************************\n",
    "    N = len(tx)\n",
    "    return - 1/float(N) * np.transpose(tx) @ (y - tx @ w)"
   ]
  },
  {
   "cell_type": "code",
   "execution_count": null,
   "metadata": {},
   "outputs": [],
   "source": [
    "def gradient_descent(y, tx, initial_w, max_iters, gamma):\n",
    "    \"\"\"Gradient descent algorithm.\"\"\"\n",
    "    # Define parameters to store w and loss\n",
    "    ws = [initial_w]\n",
    "    losses = []\n",
    "    w = initial_w\n",
    "    w_max = np.zeros(31)\n",
    "    accuracy_max = 0\n",
    "    for n_iter in range(max_iters):\n",
    "        # ***************************************************\n",
    "        # INSERT YOUR CODE HERE\n",
    "        # TODO: compute gradient and loss\n",
    "        # ***************************************************\n",
    "        gradient = compute_gradient(y, tx, w)\n",
    "        loss = compute_loss(y, tx, w)\n",
    "        # ***************************************************\n",
    "        # INSERT YOUR CODE HERE\n",
    "        # TODO: update w by gradient\n",
    "        # ***************************************************\n",
    "        w = w - gamma * gradient\n",
    "        # store w and loss\n",
    "        ws.append(w)\n",
    "        if ((n_iter % 25) == 0):\n",
    "            \n",
    "            results = y - assign_label(w, tx)\n",
    "            zeros = 0\n",
    "            for val in results:\n",
    "                if val == 0:\n",
    "                    zeros+=1\n",
    "\n",
    "            accuracy = float(zeros)/len(results)\n",
    "            print(\"accuracy = %f\" %(accuracy * 100))\n",
    "            \n",
    "#         results = y - assign_label(w, tx)\n",
    "#         zeros = 0\n",
    "#         for val in results:\n",
    "#             if val == 0:\n",
    "#                 zeros+=1\n",
    "\n",
    "#         accuracy = float(zeros)/len(results)\n",
    "#         print(\"accuracy = %f\" %(accuracy * 100))\n",
    "#         if(accuracy > accuracy_max):\n",
    "#             accuracy_max = accuracy\n",
    "#             w_max = w\n",
    "#         losses.append(loss)\n",
    "#         print(\"Gradient Descent({bi}/{ti}): loss={l}\".format(\n",
    "#               bi=n_iter, ti=max_iters - 1, l=loss))\n",
    "\n",
    "    return accuracy_max, w_max"
   ]
  },
  {
   "cell_type": "code",
   "execution_count": null,
   "metadata": {},
   "outputs": [],
   "source": [
    "def least_squares_GD(y, tx, initial_w, max_iters, gamma):\n",
    "    losses, w = gradient_descent(y, tx, initial_w, max_iters, gamma)\n",
    "\n",
    "    return losses, w\n",
    "    \n",
    "\n"
   ]
  },
  {
   "cell_type": "code",
   "execution_count": null,
   "metadata": {},
   "outputs": [],
   "source": [
    "def assign_label(w, tX):\n",
    "    prediction =  tX @ w\n",
    "    labels = []\n",
    "    for val in prediction:\n",
    "        if val < 0:\n",
    "            labels.append(-1)\n",
    "        else:\n",
    "            labels.append(1)\n",
    "    return labels\n",
    "    "
   ]
  },
  {
   "cell_type": "markdown",
   "metadata": {},
   "source": [
    "COMPUTING"
   ]
  },
  {
   "cell_type": "code",
   "execution_count": null,
   "metadata": {
    "scrolled": false
   },
   "outputs": [],
   "source": [
    "\n",
    "\n",
    "# tx = tX[:,[0, 1, 2, 3, 7, 8, 9, 10 ,11, 13, 14, 15, 16, 17, 18, 19, 20, 21, 22, 29]]\n",
    "# 0, 1, 2, 3, 7, 8, 9, 10 ,11, 13, 14, 15, 16, 17, 18, 19, 20, 21, 22, 29\n",
    "tx = np.where(tX == -999, 0, tX)\n",
    "tx, mean_x, std_x = standardize(tx)\n",
    "\n",
    "\n",
    "tx = build_model_data(tx)\n",
    "\n",
    "\n",
    "initial_w = np.random.normal(0, 1, tx.shape[1])\n",
    "\n",
    "accuracy_max, w_max = least_squares_GD(y, tx, initial_w, 3000, 0.1)\n",
    "\n",
    "\n",
    "print(accuracy_max)\n",
    "print(w_max)\n"
   ]
  },
  {
   "cell_type": "code",
   "execution_count": null,
   "metadata": {},
   "outputs": [],
   "source": [
    "w = [-0.07039423,  0.15752004, -0.73726526, -0.2374758,  -0.05083525,  0.06301448,\n",
    "  0.06306505, -0.00581162,  0.08771089, -0.0054044,   0.20111158, -0.00812699,\n",
    "  0.13530188,  0.04743153,  0.53225823,  0.02721133,  0.02082131,  0.11227999,\n",
    "  0.02726906,  0.03619948,  0.23034735 , 0.03148815, -0.033876,    0.03891127,\n",
    "  0.12936385,  0.02857931,  0.03037327,  0.04750271,  0.03037628,  0.02724288,\n",
    " -0.38439294]\n",
    "\n",
    "processedFeatures = np.where(tX_test == -999, 0, tX_test)\n",
    "x, mean_x, std_x = standardize(processedFeatures)\n",
    "\n",
    "tx = build_model_data(x)\n",
    "\n",
    "\n",
    "\n",
    "OUTPUT_PATH = '../data/submission'\n",
    "y_pred = predict_labels(w, tx)\n",
    "print(y_pred)\n",
    "create_csv_submission(ids_test, y_pred, OUTPUT_PATH)\n"
   ]
  },
  {
   "cell_type": "markdown",
   "metadata": {},
   "source": [
    "## Generate predictions and save ouput in csv format for submission:"
   ]
  },
  {
   "cell_type": "code",
   "execution_count": null,
   "metadata": {},
   "outputs": [],
   "source": [
    "DATA_TEST_PATH = '../data/test.csv' # TODO: download train data and supply path here \n",
    "_, tX_test, ids_test = load_csv_data(DATA_TEST_PATH)"
   ]
  },
  {
   "cell_type": "code",
   "execution_count": null,
   "metadata": {},
   "outputs": [],
   "source": [
    "OUTPUT_PATH = '' # TODO: fill in desired name of output file for submission\n",
    "# y_pred = predict_labels(weights, tX_test)\n",
    "create_csv_submission(ids_test, y_pred, OUTPUT_PATH)"
   ]
  },
  {
   "cell_type": "code",
   "execution_count": null,
   "metadata": {},
   "outputs": [],
   "source": []
  }
 ],
 "metadata": {
  "anaconda-cloud": {},
  "kernelspec": {
   "display_name": "Python 3",
   "language": "python",
   "name": "python3"
  },
  "language_info": {
   "codemirror_mode": {
    "name": "ipython",
    "version": 3
   },
   "file_extension": ".py",
   "mimetype": "text/x-python",
   "name": "python",
   "nbconvert_exporter": "python",
   "pygments_lexer": "ipython3",
   "version": "3.7.4"
  }
 },
 "nbformat": 4,
 "nbformat_minor": 2
}
